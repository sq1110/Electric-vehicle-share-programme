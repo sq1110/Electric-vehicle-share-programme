{
 "cells": [
  {
   "cell_type": "code",
   "execution_count": 1,
   "id": "b618617f",
   "metadata": {},
   "outputs": [],
   "source": [
    "import sqlite3\n",
    "import numpy as np\n",
    "import pandas as pd\n",
    "from datetime import datetime\n",
    "from flask_cors import *\n",
    "import os\n",
    "import json\n",
    "from flask import Flask\n",
    "import random\n",
    "from flask import Flask, render_template, request, redirect, url_for, flash, session\n",
    "from contextlib import closing"
   ]
  },
  {
   "cell_type": "code",
   "execution_count": 2,
   "id": "b5867675",
   "metadata": {},
   "outputs": [],
   "source": [
    "#LOGIN REGISTER MODULE\n",
    "app = Flask(__name__)\n",
    "\n",
    "app.config[\"SECRET_KEY\"] = 'TPmi4aLWRbyVq8zu9v82dWYW1'\n",
    "app.config.update(\n",
    "    DATABASE = 'Project.db',\n",
    "#     DEBUG=True,\n",
    ")\n",
    "def connect_db():\n",
    "    return sqlite3.connect(app.config['DATABASE'])\n",
    "\n",
    "def init_db():\n",
    "    with closing(connect_db()) as db:\n",
    "        with app.open_resource('Project.db', 'r') as f:\n",
    "            db.cursor().executescript(f.read())\n",
    "        db.commit()\n",
    "\n",
    "def get_db():\n",
    "    db = connect_db()\n",
    "    cur = db.cursor()\n",
    "    return db, cur\n",
    "\n",
    "@app.route('/')\n",
    "def hello_world():  # put application's code here\n",
    "    return redirect(url_for('login'))\n",
    "\n",
    "#register.html，login.html，menu.html\n",
    "#username（user）password（pwd），is 'u' and 'p'\n",
    "@app.route('/login',methods=['GET', 'POST'])\n",
    "def login():  # login\n",
    "#     if request.method =='POST':\n",
    "        u = request.values.get(\"user\", '')  # username\n",
    "        p = request.values.get(\"pwd\", '')  # password\n",
    "        if u and p:\n",
    "            db, cur = get_db()\n",
    "            x = cur.execute(\"SELECT * FROM USERS WHERE user_name ='%s' and user_psw ='%s'\" %(u,p)).fetchone()\n",
    "            #c = UserInfo.objects.filter(user_name=u, user_psw=p).count()\n",
    "            if x:\n",
    "                session['logged_in'] = True\n",
    "                session['username'] = u\n",
    "                flash(\"You have logged in\")\n",
    "                ren = {'msg':\"success\",\"msg_code\":200} #login successful\n",
    "            else:\n",
    "                login_massage =\"Please input correct username and password\"\n",
    "                ren = {'msg':\"input correct username and password\",\"msg_code\":500}\n",
    "        else:\n",
    "            login_massage = \"Please input username and password!\"\n",
    "            ren = {'msg':\"Please input username and password!\",\"msg_code\":500}\n",
    "        return json.dumps(ren, ensure_ascii=False)\n",
    "\n",
    "#     if request.method =='POST':  \n",
    "#         u = request.form.get('user')# username\n",
    "#         p = request.form.get(\"pwd\")  # password\n",
    "#         u = \"zxc\"\n",
    "#         p = 123123\n",
    "#         print(u,p)\n",
    "#         with sqlite3.connect(\"Project.db\") as db:\n",
    "#             cursor = db.cursor()\n",
    "        \n",
    "#         cursor.execute(\"SELECT user_psw FROM USERS WHERE user_name = '{}'\".format(u))\n",
    "#         data = cursor.fetchall()\n",
    "#         psw = data[0][0]\n",
    "        \n",
    "#         if psw == str(p):\n",
    "#             ren = {'msg':\"success\",\"msg_code\":200}\n",
    "#         else:\n",
    "#             ren = {'msg':\"fail\",\"msg_code\":200}        \n",
    "#         return json.dumps(ren, ensure_ascii=False)\n",
    "        \n",
    "\n",
    "        \n",
    "        \n",
    "        \n",
    "\n",
    "#username（user）password（pwd），confirm password(c_pwd), is 'u' and 'p' and 'c_p'\n",
    "@app.route('/register',methods=['GET', 'POST'])\n",
    "def register(): #register\n",
    "        u = request.values.get(\"user\", '')  # username\n",
    "        p = request.values.get(\"pwd\", '')  # password\n",
    "        c_p = request.values.get(\"c_pwd\",'')  #confirm your password\n",
    "        b=0\n",
    "        if u and p and c_p:\n",
    "            db, cur = get_db()\n",
    "            x = cur.execute('SELECT * FROM USERS WHERE user_name = ?', [u])\n",
    "            #c = UserInfo.objects.filter(user_name=u).count()\n",
    "            if (x.fetchall()):\n",
    "                register_massage = \"Sorry, this name has been used\"\n",
    "                ren = {'msg':\"fail\",\"msg_code\":500}\n",
    "                \n",
    "            else:\n",
    "                if c_p==p:   # check if two passwords are same\n",
    "                    # count = 1\n",
    "                    # while count != 0:\n",
    "                    #         id = str(random.randrange(00000, 99999))  #生成用户id\n",
    "                    #         y = cur.execute('SELECT * FROM login_userinfo WHERE user_id = ?', [id])\n",
    "                    #         if(y.fetchall()):\n",
    "                    #             count=0\n",
    "                        #user = UserInfo(user_id=id, user_name=u, user_psw=p)\n",
    "                        #user.save()\n",
    "                    cur.execute(\"INSERT INTO USERS (user_name, user_psw, user_balance) VALUES(?,?,?)\", [u, p, b])\n",
    "                    flash(\"successful!\")\n",
    "                    db.commit()\n",
    "                    cur.close()\n",
    "                    db.close()\n",
    "                    session['logged_in'] = True\n",
    "                    session['username'] = u\n",
    "                    ren = {'msg':\"success1\",\"msg_code\":200}\n",
    "\n",
    "\n",
    "                else:\n",
    "                    register_massage = \"Please ensure that two passwords you input are same\"\n",
    "                    ren = {'msg':\"Please ensure that two passwords you input are same\",\"msg_code\":500}\n",
    "\n",
    "            register_massage = \"Successful!\"\n",
    "            ren = {'msg':\"success2\",\"msg_code\":200}\n",
    "        else:\n",
    "            register_massage = \"Please input username and password\"\n",
    "            ren = {'msg':\"Please input username and password\",\"msg_code\":500}\n",
    "        return json.dumps(ren, ensure_ascii=False)\n",
    "\n",
    "@app.route(\"/menu\")  #after login, to redirection\n",
    "def menu():\n",
    "    if 'logged_in' in session:\n",
    "        #print(\"login successful\")\n",
    "        return render_template(\"menu.html\")\n",
    "    else:\n",
    "        #print(\"didnot login before\")\n",
    "        return redirect(url_for('login')) #redirection\n",
    "\n",
    "\n",
    "@app.route('/logout')  #logout\n",
    "def logout():\n",
    "#     if 'logged_in' in session:\n",
    "        session.pop('logged_in', None)\n",
    "        flash(\"You have logged out\")\n",
    "        #print(\"logout\")\n",
    "        ren = {'msg':\"LOg off\",\"msg_code\":200}\n",
    "        return json.dumps(ren, ensure_ascii=False)\n",
    "#     else:\n",
    "#         #print(\"please login!\")\n",
    "#         return redirect(url_for('login'))\n",
    "\n",
    "@app.route('/change_psw',methods=['GET', 'POST'])  #change your password (and redirection)\n",
    "def change_psw():\n",
    "    if 'logged_in' in session:\n",
    "        u = session['username']\n",
    "        print(u)\n",
    "        p = request.value.get(\"pwd\", '')  # password\n",
    "        c_p = request.value.get(\"c_pwd\", '')  # confirm\n",
    "        if p and c_p:\n",
    "            if p==c_p:\n",
    "                db, cur = get_db()\n",
    "                cur.execute(\"UPDATE USERS SET user_psw =  ('%s') where user_name =  ('%s')\"%(p,u))\n",
    "                db.commit()\n",
    "                flash(\"You have changed your password\")\n",
    "                return redirect(url_for('login'))\n",
    "            else:\n",
    "                register_massage = \"Please ensure that two passwords you input are same\"\n",
    "                return render_template('change_psw.html', message=register_massage)\n",
    "        else:\n",
    "            register_massage = \"Please input a new password\"\n",
    "            return render_template('change_psw.html', message=register_massage)\n",
    "    else:\n",
    "        # print(\"please login!\")\n",
    "        return redirect(url_for('login'))"
   ]
  },
  {
   "cell_type": "code",
   "execution_count": 3,
   "id": "e6d8c952",
   "metadata": {},
   "outputs": [],
   "source": [
    "#RENTING RETURN MODULE\n",
    "@app.route(\"/searchv\", methods =[ \"GET\",\"POST\"])\n",
    "def getcontent():\n",
    "    with sqlite3.connect(\"Project.db\") as db:\n",
    "        cursor = db.cursor()\n",
    "#     print(\"opened database successfully!\")\n",
    "    \n",
    "    sql = \"SELECT * FROM VEHICLES\"\n",
    "    cursor.execute(sql)\n",
    "    data = cursor.fetchall()\n",
    "    \n",
    "    para = []\n",
    "    for i in data:\n",
    "        text = {'ID':i[0], 'VehNo':i[1], 'vehType':i[2], 'Location':i[3], 'State':i[4],'Start':i[5],'End':i[6],'Timeused':i[7],'Fee':i[8],'Electric':i[9],}       \n",
    "        para.append(text)\n",
    "#     res['para'] = para    \n",
    "    return json.dumps(para, ensure_ascii=False, indent=4)\n",
    "\n",
    "@app.route('/rent/<int:no>',methods=['PUT'])\n",
    "def renting(no):\n",
    "    \n",
    "    with sqlite3.connect(\"Project.db\") as db:\n",
    "        cursor = db.cursor()\n",
    "#     print(\"opened database successfully!\")\n",
    "#     no = int(input(\"pls enter velno: \"))\n",
    "    time = datetime.now()\n",
    "    \n",
    "    try:       \n",
    "        cursor.execute(\"UPDATE VEHICLES set STATE = 'Rented' where VEHNO = '{}'\".format(no) )\n",
    "        cursor.execute(\"UPDATE VEHICLES set STARTTIME = ? where VEHNO = ?\",(time,no) )\n",
    "        print(\"Successful rent of vehicle!\")\n",
    "        db.commit()\n",
    "        db.close()\n",
    "        \n",
    "        ren = {'msg':\"success\",\"msg_code\":200}\n",
    "        return json.dumps(ren, ensure_ascii=False)\n",
    "    except:\n",
    "        print(0)\n",
    "\n",
    "@app.route('/return/<int:no>/<string:loc>',methods=['PUT'])\n",
    "def returning(no, loc):\n",
    "    with sqlite3.connect(\"Project.db\") as db:\n",
    "        cursor = db.cursor()\n",
    "    print(\"opened database successfully!\")\n",
    "#     location = input(\"Pls enter this vehicles station: \")\n",
    "    time = datetime.now()\n",
    "#     print(time.minute)\n",
    "    cursor.execute(\"UPDATE VEHICLES set STATE = 'Free'where VEHNO = '{}' \".format(no))\n",
    "    cursor.execute(\"UPDATE VEHICLES set LOCATION = ? where VEHNO = ? \",(loc,no))\n",
    "    cursor.execute(\"UPDATE VEHICLES set ENDTIME = ? where VEHNO = ?\",(time,no) )\n",
    "    cursor.execute(\"SELECT STARTTIME FROM VEHICLES WHERE VEHNO = '{}'\".format(no) )\n",
    "    fetch = cursor.fetchall()\n",
    "    for t in fetch:\n",
    "        times = t\n",
    "    s = ''.join(times)\n",
    "    #times.second()\n",
    "    #times = datetime(times)\n",
    "    cursor.execute(\"SELECT ENDTIME FROM VEHICLES WHERE VEHNO = '{}'\".format(no) )\n",
    "    fetch = cursor.fetchall()\n",
    "    for t in fetch:\n",
    "        timee = t\n",
    "    e = ''.join(timee)\n",
    "    #timee = datetime(timee)\n",
    "#     print(s,e)\n",
    "    dates = datetime.strptime(s,'%Y-%m-%d %H:%M:%S.%f')\n",
    "    datee = datetime.strptime(e,'%Y-%m-%d %H:%M:%S.%f')\n",
    "#     print(dates,datee)\n",
    "    timeused = (datee-dates).total_seconds()\n",
    "    timeused = round (timeused,2)\n",
    "#     print(\"timeused:\",timeused)\n",
    "    \n",
    "    fee = timeused * 0.01\n",
    "    fee = round (fee,2)\n",
    "    \n",
    "#     print(\"fee:\",fee)\n",
    "    cursor.execute(\"SELECT ELECTRIC FROM VEHICLES WHERE VEHNO = '{}'\".format(no) )\n",
    "    data = cursor.fetchall()\n",
    "    electric = data[0][0]\n",
    "    ele = electric - timeused * 0.005\n",
    "    ele = round (ele,2)\n",
    "        \n",
    "    cursor.execute(\"UPDATE VEHICLES set TIMEUSED = ? where VEHNO = ?\",(timeused,no) )\n",
    "    cursor.execute(\"UPDATE VEHICLES set FEE = ? where VEHNO = ?\",(fee,no) )\n",
    "    cursor.execute(\"UPDATE VEHICLES set ELECTRIC = ? where VEHNO = ?\",(ele,no) )\n",
    "    print(\"Successful return of vehicle!\")\n",
    "    db.commit()\n",
    "    db.close()\n",
    "    ren = {'msg':\"success\",\"msg_code\":200}\n",
    "    return json.dumps(ren, ensure_ascii=False)\n"
   ]
  },
  {
   "cell_type": "code",
   "execution_count": 4,
   "id": "ad01f671",
   "metadata": {},
   "outputs": [],
   "source": [
    "#CHARGE AND REPAIR Module\n",
    "\n",
    "@app.route('/charge/<int:no>', methods=['PUT'])\n",
    "def charge(no):\n",
    "    with sqlite3.connect(\"Project.db\") as db:\n",
    "        cursor = db.cursor()\n",
    "    print(\"opened database successfully!\")\n",
    "    try:\n",
    "        # sql = \"UPDATE electricQuantity SET electricQuantity = 100 WHERE electricQuantity = 10\"\n",
    "        # cursor.execute(sql)\n",
    "        cursor.execute(\"UPDATE VEHICLES SET ELECTRIC = 100 WHERE VEHNO = '{}'\".format(no))\n",
    "        print(\"Successful charge the vehicle!\")\n",
    "        db.commit()\n",
    "        db.close()\n",
    "        ren = {'msg':\"success\",\"msg_code\":200}\n",
    "        return json.dumps(ren, ensure_ascii=False)\n",
    "    except:\n",
    "        print(0)\n",
    "        \n",
    "@app.route('/repair/<int:no>', methods=['PUT'])\n",
    "def repair(no):\n",
    "    with sqlite3.connect(\"Project.db\") as db:\n",
    "        cursor = db.cursor()\n",
    "    print(\"opened database successfully!\")\n",
    "\n",
    "    try:\n",
    "\n",
    "        cursor.execute(\"UPDATE repair SET vehStatu = 'good' WHERE vehNo = '{}'\".format(no))\n",
    "        print(\"Repair the vehicle successfully!\")\n",
    "        db.commit()\n",
    "        db.close()\n",
    "        ren = {'msg':\"success\",\"msg_code\":200}\n",
    "        return json.dumps(ren, ensure_ascii=False)\n",
    "    except Exception as e:\n",
    "        print(0)\n",
    "        return jsonify({'message': 'Error: {}'.format(str(e)), 'code': '500'})\n",
    "    \n",
    "    \n",
    "@app.route('/report/<int:no>', methods=['PUT'])\n",
    "def report(no):\n",
    "    with sqlite3.connect(\"Project.db\") as db:\n",
    "        cursor = db.cursor()\n",
    "    print(\"opened database successfully!\")\n",
    "\n",
    "    try:\n",
    "\n",
    "        cursor.execute(\"UPDATE repair SET vehStatu = 'damaged' WHERE vehno = '{}'\".format(no))\n",
    "        print(\"Report successfully!\")\n",
    "        db.commit()\n",
    "        db.close()\n",
    "        ren = {'msg':\"success\",\"msg_code\":200}\n",
    "        return json.dumps(ren, ensure_ascii=False)\n",
    "    except Exception as e:\n",
    "        print(0)\n",
    "        return jsonify({'message': 'Error: {}'.format(str(e)), 'code': '500'})\n",
    "\n",
    "@app.route(\"/showinfo\", methods=[\"GET\", \"POST\"])\n",
    "def getrepair():\n",
    "    with sqlite3.connect(\"Project.db\") as db:\n",
    "        cursor = db.cursor()\n",
    "    print(\"opened database successfully!\")\n",
    "\n",
    "    sql = \"SELECT * FROM repair\"\n",
    "    cursor.execute(sql)\n",
    "    data = cursor.fetchall()\n",
    "\n",
    "    para = []\n",
    "    for i in data:\n",
    "        text = {'vehNo': i[0], 'vehType': i[1], 'vehStatu': i[2], }\n",
    "        para.append(text)\n",
    "    #     res['para'] = para\n",
    "    return json.dumps(para, ensure_ascii=False, indent=4)\n",
    "\n",
    "    \n",
    "\n",
    "# @app.route('/repair_tyre/<int:no>', methods=['PUT'])\n",
    "# def repair_tyre(no):\n",
    "#     with sqlite3.connect(\"Project.db\") as db:\n",
    "#         cursor = db.cursor()\n",
    "#     print(\"opened database successfully!\")\n",
    "\n",
    "#     try:\n",
    "#         cursor.execute(\"UPDATE repair SET tyre = 'good' WHERE tyre = '{}'\".format(no))\n",
    "#         print(\"Repair the vehicle successfully!\")\n",
    "#         db.commit()\n",
    "#         db.close()\n",
    "#         ren = {'msg':\"success\",\"msg_code\":200}\n",
    "#         return json.dumps(ren, ensure_ascii=False)\n",
    "#     except:\n",
    "#         print(0)\n",
    "\n",
    "# @app.route('/spray_lacquer/<int:no>', methods=['PUT'])\n",
    "# def spray_lacquer(no):\n",
    "#     with sqlite3.connect(\"Project.db\") as db:\n",
    "#         cursor = db.cursor()\n",
    "#     print(\"opened database successfully!\")\n",
    "\n",
    "#     try:\n",
    "#         cursor.execute(\"UPDATE repair SET lacquer='good' WHERE lacquer = '{}'\".format(no))\n",
    "#         print(\"Repair the vehicle successfully!\")\n",
    "#         db.commit()\n",
    "#         db.close()\n",
    "#         ren = {'msg':\"success\",\"msg_code\":200}\n",
    "#         return json.dumps(ren, ensure_ascii=False)\n",
    "#     except:\n",
    "#         print(0)\n",
    "\n",
    "\n",
    "# @app.route('/repair_engine/<int:no>', methods=['PUT'])\n",
    "# def repair_engine(no):\n",
    "#     with sqlite3.connect(\"Project.db\") as db:\n",
    "#         cursor = db.cursor()\n",
    "#     print(\"opened database successfully!\")\n",
    "\n",
    "#     try:\n",
    "#         cursor.execute(\"UPDATE repair SET engine='good' WHERE engine = '{}'\".format(no))\n",
    "#         print(\"Repair the vehicle successfully!\")\n",
    "#         db.commit()\n",
    "#         db.close()\n",
    "#         ren = {'msg':\"success\",\"msg_code\":200}\n",
    "#         return json.dumps(ren, ensure_ascii=False)\n",
    "#     except:\n",
    "#         print(0)\n",
    "\n",
    "\n",
    "# @app.route('/maintenance/<int:no>', methods=['PUT'])\n",
    "# def maintenance(no):\n",
    "#     with sqlite3.connect(\"Project.db\") as db:\n",
    "#         cursor = db.cursor()\n",
    "#     print(\"opened database successfully!\")\n",
    "\n",
    "#     try:\n",
    "#         cursor.execute(\"UPDATE repair SET maintenance='good' WHERE maintenance = '{}'\".format(no))\n",
    "#         print(\"Repair the vehicle successfully!\")\n",
    "#         db.commit()\n",
    "#         db.close()\n",
    "#         ren = {'msg':\"success\",\"msg_code\":200}\n",
    "#         return json.dumps(ren, ensure_ascii=False)\n",
    "#     except:\n",
    "#         print(0)\n"
   ]
  },
  {
   "cell_type": "code",
   "execution_count": 5,
   "id": "7629230d",
   "metadata": {},
   "outputs": [],
   "source": [
    "@app.route(\"/showuser/<string:username>\", methods=[\"GET\", \"POST\"])\n",
    "def getusers(username):\n",
    "    with sqlite3.connect(\"Project.db\") as db:\n",
    "        cursor = db.cursor()\n",
    "    print(\"opened database successfully!\")\n",
    "\n",
    "    cursor.execute(\"SELECT * FROM USERS WHERE user_name = '{}'\".format(username) )\n",
    "    data = cursor.fetchall()\n",
    "\n",
    "    para = []\n",
    "    for i in data:\n",
    "        text = {'user_id': i[0], 'user_name': i[1],'user_psw': i[2], 'user_balance': i[3], }\n",
    "        para.append(text)\n",
    "    #     res['para'] = para\n",
    "    return json.dumps(para, ensure_ascii=False, indent=4)\n",
    "\n",
    "\n",
    "\n",
    "#Recharge and pay module\n",
    "@app.route('/recharge/<string:username>', methods=['PUT'])\n",
    "def recharge(username):\n",
    "    with sqlite3.connect(\"Project.db\") as db:\n",
    "        cursor = db.cursor()\n",
    "#     print(\"opened database successfully!\")\n",
    "    try:\n",
    "#         Get the input data from the front end\n",
    "#         recharge = request.values.get(\"recharge\", '')\n",
    "#         test \n",
    "        recharge = 100\n",
    "\n",
    "        cursor.execute(\"SELECT user_balance FROM USERS WHERE user_name = '{}'\".format(username) )\n",
    "        data = cursor.fetchall()\n",
    "        balance = data[0][0]\n",
    "\n",
    "        balance = balance + recharge\n",
    "        \n",
    "        cursor.execute(\"UPDATE USERS set user_balance = ? where user_name = ?\",(balance,username))\n",
    "#         print(\"Recharge successfully!\")\n",
    "        db.commit()\n",
    "        db.close()\n",
    "        ren = {'msg':\"success\",\"msg_code\":200}\n",
    "        return json.dumps(ren, ensure_ascii=False)\n",
    "    except:\n",
    "        print(0)\n",
    "        \n",
    "        \n",
    "@app.route('/pay/<int:userid>/<int:no>', methods=['PUT'])\n",
    "def payment(userid, no):\n",
    "    with sqlite3.connect(\"Project.db\") as db:\n",
    "        cursor = db.cursor()\n",
    "#     print(\"opened database successfully!\")\n",
    "    try:\n",
    "        cursor.execute(\"SELECT user_balance FROM USERS WHERE user_id = '{}'\".format(userid) )\n",
    "        data = cursor.fetchall()\n",
    "        balance = data[0][0]\n",
    "        \n",
    "        cursor.execute(\"SELECT FEE FROM VEHICLES WHERE VEHNO = '{}'\".format(no) )\n",
    "        data1 = cursor.fetchall()\n",
    "        fee = data1[0][0]\n",
    "        \n",
    "        balance = balance - fee\n",
    "        \n",
    "        cursor.execute(\"UPDATE USERS set user_balance = ? where user_id = ?\",(balance,userid))\n",
    "        print(\"Payment success!\")\n",
    "        db.commit()\n",
    "        db.close()\n",
    "        ren = {'msg':\"success\",\"msg_code\":200}\n",
    "        return json.dumps(ren, ensure_ascii=False)\n",
    "    except:\n",
    "        print(0)"
   ]
  },
  {
   "cell_type": "code",
   "execution_count": 6,
   "id": "0f855388",
   "metadata": {},
   "outputs": [],
   "source": [
    "# with sqlite3.connect(\"Project.db\") as db:\n",
    "#     cursor = db.cursor()\n",
    "# #     print(\"opened database successfully!\")\n",
    "# userid = 3\n",
    "# no = 1001\n",
    "\n",
    "# cursor.execute(\"SELECT user_balance FROM USERS WHERE user_id = '{}'\".format(userid) )\n",
    "# data = cursor.fetchall()\n",
    "# balance = data[0][0]\n",
    "# print(balance)\n",
    "# print(type(balance))\n",
    "        \n",
    "# cursor.execute(\"SELECT FEE FROM VEHICLES WHERE VEHNO = '{}'\".format(no) )\n",
    "# data1 = cursor.fetchall()\n",
    "# fee = data1[0][0]\n",
    "# print(fee)\n",
    "# print(type(fee))        \n",
    "# balance = balance - fee\n",
    "        \n",
    "# cursor.execute(\"UPDATE USERS set user_balance = ? where user_id = ?\",(balance,userid))\n",
    "# print(\"Payment success!\")"
   ]
  },
  {
   "cell_type": "code",
   "execution_count": null,
   "id": "6d08c173",
   "metadata": {
    "scrolled": false
   },
   "outputs": [
    {
     "name": "stdout",
     "output_type": "stream",
     "text": [
      " * Serving Flask app '__main__'\n",
      " * Debug mode: off\n"
     ]
    },
    {
     "name": "stderr",
     "output_type": "stream",
     "text": [
      "WARNING: This is a development server. Do not use it in a production deployment. Use a production WSGI server instead.\n",
      " * Running on all addresses (0.0.0.0)\n",
      " * Running on http://127.0.0.1:5590\n",
      " * Running on http://10.114.75.148:5590\n",
      "Press CTRL+C to quit\n",
      "127.0.0.1 - - [06/Nov/2022 13:54:07] \"PUT /pay/1/1001 HTTP/1.1\" 200 -\n"
     ]
    },
    {
     "name": "stdout",
     "output_type": "stream",
     "text": [
      "Payment success!\n"
     ]
    },
    {
     "name": "stderr",
     "output_type": "stream",
     "text": [
      "127.0.0.1 - - [06/Nov/2022 13:54:59] \"POST /searchv HTTP/1.1\" 200 -\n",
      "127.0.0.1 - - [06/Nov/2022 13:56:11] \"GET /login?user=qwe113&pwd=3 HTTP/1.1\" 200 -\n",
      "127.0.0.1 - - [06/Nov/2022 13:57:08] \"GET /login?user=qwe113&pwd=3 HTTP/1.1\" 200 -\n",
      "127.0.0.1 - - [06/Nov/2022 13:57:16] \"POST /showuser HTTP/1.1\" 404 -\n",
      "127.0.0.1 - - [06/Nov/2022 13:58:00] \"POST /showuser/qwe113 HTTP/1.1\" 200 -\n"
     ]
    },
    {
     "name": "stdout",
     "output_type": "stream",
     "text": [
      "opened database successfully!\n"
     ]
    },
    {
     "name": "stderr",
     "output_type": "stream",
     "text": [
      "127.0.0.1 - - [06/Nov/2022 13:58:08] \"POST /showuser/qwe113 HTTP/1.1\" 200 -\n"
     ]
    },
    {
     "name": "stdout",
     "output_type": "stream",
     "text": [
      "opened database successfully!\n"
     ]
    },
    {
     "name": "stderr",
     "output_type": "stream",
     "text": [
      "127.0.0.1 - - [06/Nov/2022 13:58:49] \"POST /showuser/qwe113 HTTP/1.1\" 200 -\n"
     ]
    },
    {
     "name": "stdout",
     "output_type": "stream",
     "text": [
      "opened database successfully!\n"
     ]
    },
    {
     "name": "stderr",
     "output_type": "stream",
     "text": [
      "127.0.0.1 - - [06/Nov/2022 13:59:06] \"POST /showuser/qwe113 HTTP/1.1\" 200 -\n"
     ]
    },
    {
     "name": "stdout",
     "output_type": "stream",
     "text": [
      "opened database successfully!\n"
     ]
    },
    {
     "name": "stderr",
     "output_type": "stream",
     "text": [
      "127.0.0.1 - - [06/Nov/2022 14:01:53] \"POST /showuser/qwe113 HTTP/1.1\" 200 -\n"
     ]
    },
    {
     "name": "stdout",
     "output_type": "stream",
     "text": [
      "opened database successfully!\n"
     ]
    },
    {
     "name": "stderr",
     "output_type": "stream",
     "text": [
      "127.0.0.1 - - [06/Nov/2022 14:02:23] \"POST /showuser/qwe113 HTTP/1.1\" 200 -\n"
     ]
    },
    {
     "name": "stdout",
     "output_type": "stream",
     "text": [
      "opened database successfully!\n"
     ]
    },
    {
     "name": "stderr",
     "output_type": "stream",
     "text": [
      "127.0.0.1 - - [06/Nov/2022 14:02:49] \"GET /login?user=qwe113&pwd=3 HTTP/1.1\" 200 -\n",
      "127.0.0.1 - - [06/Nov/2022 14:03:44] \"POST /showuser/qwe113 HTTP/1.1\" 200 -\n"
     ]
    },
    {
     "name": "stdout",
     "output_type": "stream",
     "text": [
      "opened database successfully!\n"
     ]
    },
    {
     "name": "stderr",
     "output_type": "stream",
     "text": [
      "127.0.0.1 - - [06/Nov/2022 14:03:59] \"POST /showuser/qwe113 HTTP/1.1\" 200 -\n"
     ]
    },
    {
     "name": "stdout",
     "output_type": "stream",
     "text": [
      "opened database successfully!\n"
     ]
    },
    {
     "name": "stderr",
     "output_type": "stream",
     "text": [
      "127.0.0.1 - - [06/Nov/2022 14:04:14] \"POST /showuser/qwe113 HTTP/1.1\" 200 -\n"
     ]
    },
    {
     "name": "stdout",
     "output_type": "stream",
     "text": [
      "opened database successfully!\n"
     ]
    },
    {
     "name": "stderr",
     "output_type": "stream",
     "text": [
      "127.0.0.1 - - [06/Nov/2022 14:05:09] \"POST /showuser/qwe113 HTTP/1.1\" 200 -\n"
     ]
    },
    {
     "name": "stdout",
     "output_type": "stream",
     "text": [
      "opened database successfully!\n"
     ]
    },
    {
     "name": "stderr",
     "output_type": "stream",
     "text": [
      "127.0.0.1 - - [06/Nov/2022 14:05:33] \"POST /showuser/qwe113 HTTP/1.1\" 200 -\n"
     ]
    },
    {
     "name": "stdout",
     "output_type": "stream",
     "text": [
      "opened database successfully!\n"
     ]
    },
    {
     "name": "stderr",
     "output_type": "stream",
     "text": [
      "127.0.0.1 - - [06/Nov/2022 14:05:51] \"POST /showuser/qwe113 HTTP/1.1\" 200 -\n"
     ]
    },
    {
     "name": "stdout",
     "output_type": "stream",
     "text": [
      "opened database successfully!\n"
     ]
    },
    {
     "name": "stderr",
     "output_type": "stream",
     "text": [
      "127.0.0.1 - - [06/Nov/2022 14:05:56] \"PUT /recharge/qwe113 HTTP/1.1\" 200 -\n",
      "127.0.0.1 - - [06/Nov/2022 14:06:39] \"POST /showuser/qwe113 HTTP/1.1\" 200 -\n"
     ]
    },
    {
     "name": "stdout",
     "output_type": "stream",
     "text": [
      "opened database successfully!\n"
     ]
    },
    {
     "name": "stderr",
     "output_type": "stream",
     "text": [
      "127.0.0.1 - - [06/Nov/2022 14:06:41] \"PUT /recharge/qwe113 HTTP/1.1\" 200 -\n",
      "127.0.0.1 - - [06/Nov/2022 14:06:55] \"POST /showuser/qwe113 HTTP/1.1\" 200 -\n"
     ]
    },
    {
     "name": "stdout",
     "output_type": "stream",
     "text": [
      "opened database successfully!\n"
     ]
    },
    {
     "name": "stderr",
     "output_type": "stream",
     "text": [
      "127.0.0.1 - - [06/Nov/2022 14:06:57] \"PUT /recharge/qwe113 HTTP/1.1\" 200 -\n",
      "127.0.0.1 - - [06/Nov/2022 14:06:57] \"POST /showuser/qwe113 HTTP/1.1\" 200 -\n"
     ]
    },
    {
     "name": "stdout",
     "output_type": "stream",
     "text": [
      "opened database successfully!\n"
     ]
    },
    {
     "name": "stderr",
     "output_type": "stream",
     "text": [
      "127.0.0.1 - - [06/Nov/2022 14:07:03] \"PUT /recharge/qwe113 HTTP/1.1\" 200 -\n",
      "127.0.0.1 - - [06/Nov/2022 14:07:04] \"POST /showuser/qwe113 HTTP/1.1\" 200 -\n"
     ]
    },
    {
     "name": "stdout",
     "output_type": "stream",
     "text": [
      "opened database successfully!\n"
     ]
    },
    {
     "name": "stderr",
     "output_type": "stream",
     "text": [
      "127.0.0.1 - - [06/Nov/2022 14:07:18] \"GET /login?user=asd&pwd=123123 HTTP/1.1\" 200 -\n",
      "127.0.0.1 - - [06/Nov/2022 14:07:35] \"GET /login?user=asd&pwd=123123 HTTP/1.1\" 200 -\n",
      "127.0.0.1 - - [06/Nov/2022 14:08:08] \"POST /showuser/asd HTTP/1.1\" 200 -\n"
     ]
    },
    {
     "name": "stdout",
     "output_type": "stream",
     "text": [
      "opened database successfully!\n"
     ]
    },
    {
     "name": "stderr",
     "output_type": "stream",
     "text": [
      "127.0.0.1 - - [06/Nov/2022 14:08:14] \"POST /showuser/asd HTTP/1.1\" 200 -\n"
     ]
    },
    {
     "name": "stdout",
     "output_type": "stream",
     "text": [
      "opened database successfully!\n"
     ]
    },
    {
     "name": "stderr",
     "output_type": "stream",
     "text": [
      "127.0.0.1 - - [06/Nov/2022 14:08:39] \"POST /showuser/asd HTTP/1.1\" 200 -\n"
     ]
    },
    {
     "name": "stdout",
     "output_type": "stream",
     "text": [
      "opened database successfully!\n"
     ]
    },
    {
     "name": "stderr",
     "output_type": "stream",
     "text": [
      "127.0.0.1 - - [06/Nov/2022 14:11:09] \"POST /showuser/asd HTTP/1.1\" 200 -\n"
     ]
    },
    {
     "name": "stdout",
     "output_type": "stream",
     "text": [
      "opened database successfully!\n"
     ]
    },
    {
     "name": "stderr",
     "output_type": "stream",
     "text": [
      "127.0.0.1 - - [06/Nov/2022 14:11:13] \"POST /showuser/asd HTTP/1.1\" 200 -\n"
     ]
    },
    {
     "name": "stdout",
     "output_type": "stream",
     "text": [
      "opened database successfully!\n"
     ]
    },
    {
     "name": "stderr",
     "output_type": "stream",
     "text": [
      "127.0.0.1 - - [06/Nov/2022 14:13:30] \"PUT /rent/1001 HTTP/1.1\" 200 -\n"
     ]
    },
    {
     "name": "stdout",
     "output_type": "stream",
     "text": [
      "Successful rent of vehicle!\n"
     ]
    },
    {
     "name": "stderr",
     "output_type": "stream",
     "text": [
      "127.0.0.1 - - [06/Nov/2022 14:13:30] \"POST /searchv HTTP/1.1\" 200 -\n",
      "127.0.0.1 - - [06/Nov/2022 14:13:37] \"PUT /return/1001/11213232424 HTTP/1.1\" 200 -\n"
     ]
    },
    {
     "name": "stdout",
     "output_type": "stream",
     "text": [
      "opened database successfully!\n",
      "Successful return of vehicle!\n"
     ]
    },
    {
     "name": "stderr",
     "output_type": "stream",
     "text": [
      "127.0.0.1 - - [06/Nov/2022 14:13:39] \"PUT /pay/3/1001 HTTP/1.1\" 200 -\n"
     ]
    },
    {
     "name": "stdout",
     "output_type": "stream",
     "text": [
      "Payment success!\n"
     ]
    },
    {
     "name": "stderr",
     "output_type": "stream",
     "text": [
      "127.0.0.1 - - [06/Nov/2022 14:14:04] \"PUT /rent/2002 HTTP/1.1\" 200 -\n"
     ]
    },
    {
     "name": "stdout",
     "output_type": "stream",
     "text": [
      "Successful rent of vehicle!\n"
     ]
    },
    {
     "name": "stderr",
     "output_type": "stream",
     "text": [
      "127.0.0.1 - - [06/Nov/2022 14:14:05] \"POST /searchv HTTP/1.1\" 200 -\n",
      "127.0.0.1 - - [06/Nov/2022 14:14:55] \"PUT /rent/2002 HTTP/1.1\" 200 -\n",
      "127.0.0.1 - - [06/Nov/2022 14:14:55] \"POST /searchv HTTP/1.1\" 200 -\n"
     ]
    },
    {
     "name": "stdout",
     "output_type": "stream",
     "text": [
      "Successful rent of vehicle!\n"
     ]
    },
    {
     "name": "stderr",
     "output_type": "stream",
     "text": [
      "127.0.0.1 - - [06/Nov/2022 14:16:43] \"PUT /rent/2002 HTTP/1.1\" 200 -\n"
     ]
    },
    {
     "name": "stdout",
     "output_type": "stream",
     "text": [
      "Successful rent of vehicle!\n"
     ]
    },
    {
     "name": "stderr",
     "output_type": "stream",
     "text": [
      "127.0.0.1 - - [06/Nov/2022 14:16:43] \"POST /searchv HTTP/1.1\" 200 -\n",
      "127.0.0.1 - - [06/Nov/2022 14:17:28] \"PUT /rent/2002 HTTP/1.1\" 200 -\n"
     ]
    },
    {
     "name": "stdout",
     "output_type": "stream",
     "text": [
      "Successful rent of vehicle!\n"
     ]
    },
    {
     "name": "stderr",
     "output_type": "stream",
     "text": [
      "127.0.0.1 - - [06/Nov/2022 14:17:28] \"POST /searchv HTTP/1.1\" 200 -\n",
      "127.0.0.1 - - [06/Nov/2022 14:17:47] \"PUT /rent/2002 HTTP/1.1\" 200 -\n"
     ]
    },
    {
     "name": "stdout",
     "output_type": "stream",
     "text": [
      "Successful rent of vehicle!\n"
     ]
    },
    {
     "name": "stderr",
     "output_type": "stream",
     "text": [
      "127.0.0.1 - - [06/Nov/2022 14:17:47] \"POST /searchv HTTP/1.1\" 200 -\n",
      "127.0.0.1 - - [06/Nov/2022 14:18:14] \"PUT /rent/2002 HTTP/1.1\" 200 -\n"
     ]
    },
    {
     "name": "stdout",
     "output_type": "stream",
     "text": [
      "Successful rent of vehicle!\n"
     ]
    },
    {
     "name": "stderr",
     "output_type": "stream",
     "text": [
      "127.0.0.1 - - [06/Nov/2022 14:18:14] \"POST /searchv HTTP/1.1\" 200 -\n",
      "127.0.0.1 - - [06/Nov/2022 14:19:23] \"PUT /rent/2002 HTTP/1.1\" 200 -\n"
     ]
    },
    {
     "name": "stdout",
     "output_type": "stream",
     "text": [
      "Successful rent of vehicle!\n"
     ]
    },
    {
     "name": "stderr",
     "output_type": "stream",
     "text": [
      "127.0.0.1 - - [06/Nov/2022 14:19:23] \"POST /searchv HTTP/1.1\" 200 -\n",
      "127.0.0.1 - - [06/Nov/2022 14:20:30] \"PUT /rent/200222 HTTP/1.1\" 200 -\n"
     ]
    },
    {
     "name": "stdout",
     "output_type": "stream",
     "text": [
      "Successful rent of vehicle!\n"
     ]
    },
    {
     "name": "stderr",
     "output_type": "stream",
     "text": [
      "127.0.0.1 - - [06/Nov/2022 14:20:30] \"POST /searchv HTTP/1.1\" 200 -\n",
      "[2022-11-06 14:20:37,970] ERROR in app: Exception on /pay/0/1001 [PUT]\n",
      "Traceback (most recent call last):\n",
      "  File \"D:\\NAN\\envs\\csdn_ml_env\\lib\\site-packages\\flask\\app.py\", line 2525, in wsgi_app\n",
      "    response = self.full_dispatch_request()\n",
      "  File \"D:\\NAN\\envs\\csdn_ml_env\\lib\\site-packages\\flask\\app.py\", line 1823, in full_dispatch_request\n",
      "    return self.finalize_request(rv)\n",
      "  File \"D:\\NAN\\envs\\csdn_ml_env\\lib\\site-packages\\flask\\app.py\", line 1842, in finalize_request\n",
      "    response = self.make_response(rv)\n",
      "  File \"D:\\NAN\\envs\\csdn_ml_env\\lib\\site-packages\\flask\\app.py\", line 2135, in make_response\n",
      "    f\"The view function for {request.endpoint!r} did not\"\n",
      "TypeError: The view function for 'payment' did not return a valid response. The function either returned None or ended without a return statement.\n",
      "127.0.0.1 - - [06/Nov/2022 14:20:37] \"PUT /pay/0/1001 HTTP/1.1\" 500 -\n"
     ]
    },
    {
     "name": "stdout",
     "output_type": "stream",
     "text": [
      "0\n"
     ]
    },
    {
     "name": "stderr",
     "output_type": "stream",
     "text": [
      "127.0.0.1 - - [06/Nov/2022 14:20:40] \"POST /showuser/asd HTTP/1.1\" 200 -\n"
     ]
    },
    {
     "name": "stdout",
     "output_type": "stream",
     "text": [
      "opened database successfully!\n"
     ]
    },
    {
     "name": "stderr",
     "output_type": "stream",
     "text": [
      "127.0.0.1 - - [06/Nov/2022 14:20:51] \"PUT /rent/2001 HTTP/1.1\" 200 -\n"
     ]
    },
    {
     "name": "stdout",
     "output_type": "stream",
     "text": [
      "Successful rent of vehicle!\n"
     ]
    },
    {
     "name": "stderr",
     "output_type": "stream",
     "text": [
      "127.0.0.1 - - [06/Nov/2022 14:20:51] \"POST /searchv HTTP/1.1\" 200 -\n",
      "127.0.0.1 - - [06/Nov/2022 14:21:06] \"PUT /rent/2001 HTTP/1.1\" 200 -\n",
      "127.0.0.1 - - [06/Nov/2022 14:21:06] \"POST /searchv HTTP/1.1\" 200 -\n"
     ]
    },
    {
     "name": "stdout",
     "output_type": "stream",
     "text": [
      "Successful rent of vehicle!\n"
     ]
    },
    {
     "name": "stderr",
     "output_type": "stream",
     "text": [
      "127.0.0.1 - - [06/Nov/2022 14:23:03] \"PUT /rent/2001 HTTP/1.1\" 200 -\n"
     ]
    },
    {
     "name": "stdout",
     "output_type": "stream",
     "text": [
      "Successful rent of vehicle!\n"
     ]
    },
    {
     "name": "stderr",
     "output_type": "stream",
     "text": [
      "127.0.0.1 - - [06/Nov/2022 14:23:03] \"POST /searchv HTTP/1.1\" 200 -\n",
      "127.0.0.1 - - [06/Nov/2022 14:24:11] \"PUT /rent/2002 HTTP/1.1\" 200 -\n",
      "127.0.0.1 - - [06/Nov/2022 14:24:11] \"POST /searchv HTTP/1.1\" 200 -\n"
     ]
    },
    {
     "name": "stdout",
     "output_type": "stream",
     "text": [
      "Successful rent of vehicle!\n"
     ]
    },
    {
     "name": "stderr",
     "output_type": "stream",
     "text": [
      "127.0.0.1 - - [06/Nov/2022 14:24:45] \"PUT /rent/2002 HTTP/1.1\" 200 -\n"
     ]
    },
    {
     "name": "stdout",
     "output_type": "stream",
     "text": [
      "Successful rent of vehicle!\n"
     ]
    },
    {
     "name": "stderr",
     "output_type": "stream",
     "text": [
      "127.0.0.1 - - [06/Nov/2022 14:24:46] \"POST /searchv HTTP/1.1\" 200 -\n",
      "127.0.0.1 - - [06/Nov/2022 14:24:54] \"PUT /return/2002/111 HTTP/1.1\" 200 -\n"
     ]
    },
    {
     "name": "stdout",
     "output_type": "stream",
     "text": [
      "opened database successfully!\n",
      "Successful return of vehicle!\n"
     ]
    },
    {
     "name": "stderr",
     "output_type": "stream",
     "text": [
      "127.0.0.1 - - [06/Nov/2022 14:25:43] \"POST /showuser/asd HTTP/1.1\" 200 -\n"
     ]
    },
    {
     "name": "stdout",
     "output_type": "stream",
     "text": [
      "opened database successfully!\n"
     ]
    },
    {
     "name": "stderr",
     "output_type": "stream",
     "text": [
      "127.0.0.1 - - [06/Nov/2022 14:26:01] \"POST /showuser/asd HTTP/1.1\" 200 -\n"
     ]
    },
    {
     "name": "stdout",
     "output_type": "stream",
     "text": [
      "opened database successfully!\n"
     ]
    },
    {
     "name": "stderr",
     "output_type": "stream",
     "text": [
      "127.0.0.1 - - [06/Nov/2022 14:26:07] \"PUT /pay/2/2002 HTTP/1.1\" 200 -\n"
     ]
    },
    {
     "name": "stdout",
     "output_type": "stream",
     "text": [
      "Payment success!\n"
     ]
    },
    {
     "name": "stderr",
     "output_type": "stream",
     "text": [
      "127.0.0.1 - - [06/Nov/2022 14:26:17] \"PUT /rent/2001 HTTP/1.1\" 200 -\n"
     ]
    },
    {
     "name": "stdout",
     "output_type": "stream",
     "text": [
      "Successful rent of vehicle!\n"
     ]
    },
    {
     "name": "stderr",
     "output_type": "stream",
     "text": [
      "127.0.0.1 - - [06/Nov/2022 14:26:17] \"POST /searchv HTTP/1.1\" 200 -\n",
      "127.0.0.1 - - [06/Nov/2022 14:26:22] \"PUT /return/2001/11111 HTTP/1.1\" 200 -\n"
     ]
    },
    {
     "name": "stdout",
     "output_type": "stream",
     "text": [
      "opened database successfully!\n",
      "Successful return of vehicle!\n"
     ]
    },
    {
     "name": "stderr",
     "output_type": "stream",
     "text": [
      "127.0.0.1 - - [06/Nov/2022 14:26:22] \"POST /showuser/asd HTTP/1.1\" 200 -\n"
     ]
    },
    {
     "name": "stdout",
     "output_type": "stream",
     "text": [
      "opened database successfully!\n"
     ]
    },
    {
     "name": "stderr",
     "output_type": "stream",
     "text": [
      "127.0.0.1 - - [06/Nov/2022 14:27:07] \"PUT /rent/2001 HTTP/1.1\" 200 -\n"
     ]
    },
    {
     "name": "stdout",
     "output_type": "stream",
     "text": [
      "Successful rent of vehicle!\n"
     ]
    },
    {
     "name": "stderr",
     "output_type": "stream",
     "text": [
      "127.0.0.1 - - [06/Nov/2022 14:27:07] \"POST /searchv HTTP/1.1\" 200 -\n",
      "127.0.0.1 - - [06/Nov/2022 14:30:31] \"PUT /return/2001/G6 HTTP/1.1\" 200 -\n"
     ]
    },
    {
     "name": "stdout",
     "output_type": "stream",
     "text": [
      "opened database successfully!\n",
      "Successful return of vehicle!\n"
     ]
    },
    {
     "name": "stderr",
     "output_type": "stream",
     "text": [
      "127.0.0.1 - - [06/Nov/2022 14:30:31] \"POST /showuser/asd HTTP/1.1\" 200 -\n"
     ]
    },
    {
     "name": "stdout",
     "output_type": "stream",
     "text": [
      "opened database successfully!\n"
     ]
    },
    {
     "name": "stderr",
     "output_type": "stream",
     "text": [
      "127.0.0.1 - - [06/Nov/2022 14:30:58] \"PUT /rent/1002 HTTP/1.1\" 200 -\n"
     ]
    },
    {
     "name": "stdout",
     "output_type": "stream",
     "text": [
      "Successful rent of vehicle!\n"
     ]
    },
    {
     "name": "stderr",
     "output_type": "stream",
     "text": [
      "127.0.0.1 - - [06/Nov/2022 14:30:59] \"POST /searchv HTTP/1.1\" 200 -\n",
      "127.0.0.1 - - [06/Nov/2022 14:31:09] \"PUT /return/1002/G7 HTTP/1.1\" 200 -\n"
     ]
    },
    {
     "name": "stdout",
     "output_type": "stream",
     "text": [
      "opened database successfully!\n",
      "Successful return of vehicle!\n"
     ]
    },
    {
     "name": "stderr",
     "output_type": "stream",
     "text": [
      "127.0.0.1 - - [06/Nov/2022 14:31:09] \"POST /showuser/asd HTTP/1.1\" 200 -\n"
     ]
    },
    {
     "name": "stdout",
     "output_type": "stream",
     "text": [
      "opened database successfully!\n"
     ]
    },
    {
     "name": "stderr",
     "output_type": "stream",
     "text": [
      "127.0.0.1 - - [06/Nov/2022 14:31:37] \"PUT /rent/1001 HTTP/1.1\" 200 -\n"
     ]
    },
    {
     "name": "stdout",
     "output_type": "stream",
     "text": [
      "Successful rent of vehicle!\n"
     ]
    },
    {
     "name": "stderr",
     "output_type": "stream",
     "text": [
      "127.0.0.1 - - [06/Nov/2022 14:31:37] \"POST /searchv HTTP/1.1\" 200 -\n",
      "127.0.0.1 - - [06/Nov/2022 14:31:50] \"PUT /return/1001/G6 HTTP/1.1\" 200 -\n"
     ]
    },
    {
     "name": "stdout",
     "output_type": "stream",
     "text": [
      "opened database successfully!\n",
      "Successful return of vehicle!\n"
     ]
    },
    {
     "name": "stderr",
     "output_type": "stream",
     "text": [
      "127.0.0.1 - - [06/Nov/2022 14:31:50] \"POST /showuser/asd HTTP/1.1\" 200 -\n"
     ]
    },
    {
     "name": "stdout",
     "output_type": "stream",
     "text": [
      "opened database successfully!\n"
     ]
    },
    {
     "name": "stderr",
     "output_type": "stream",
     "text": [
      "127.0.0.1 - - [06/Nov/2022 14:32:27] \"PUT /rent/1001 HTTP/1.1\" 200 -\n"
     ]
    },
    {
     "name": "stdout",
     "output_type": "stream",
     "text": [
      "Successful rent of vehicle!\n"
     ]
    },
    {
     "name": "stderr",
     "output_type": "stream",
     "text": [
      "127.0.0.1 - - [06/Nov/2022 14:32:27] \"POST /searchv HTTP/1.1\" 200 -\n",
      "127.0.0.1 - - [06/Nov/2022 14:32:35] \"PUT /return/1001/G6 HTTP/1.1\" 200 -\n"
     ]
    },
    {
     "name": "stdout",
     "output_type": "stream",
     "text": [
      "opened database successfully!\n",
      "Successful return of vehicle!\n"
     ]
    },
    {
     "name": "stderr",
     "output_type": "stream",
     "text": [
      "127.0.0.1 - - [06/Nov/2022 14:32:35] \"POST /showuser/asd HTTP/1.1\" 200 -\n"
     ]
    },
    {
     "name": "stdout",
     "output_type": "stream",
     "text": [
      "opened database successfully!\n"
     ]
    },
    {
     "name": "stderr",
     "output_type": "stream",
     "text": [
      "127.0.0.1 - - [06/Nov/2022 14:32:46] \"PUT /rent/1002 HTTP/1.1\" 200 -\n"
     ]
    },
    {
     "name": "stdout",
     "output_type": "stream",
     "text": [
      "Successful rent of vehicle!\n"
     ]
    },
    {
     "name": "stderr",
     "output_type": "stream",
     "text": [
      "127.0.0.1 - - [06/Nov/2022 14:32:46] \"POST /searchv HTTP/1.1\" 200 -\n",
      "127.0.0.1 - - [06/Nov/2022 14:33:00] \"PUT /return/1002/G7 HTTP/1.1\" 200 -\n"
     ]
    },
    {
     "name": "stdout",
     "output_type": "stream",
     "text": [
      "opened database successfully!\n",
      "Successful return of vehicle!\n"
     ]
    },
    {
     "name": "stderr",
     "output_type": "stream",
     "text": [
      "127.0.0.1 - - [06/Nov/2022 14:33:00] \"POST /showuser/asd HTTP/1.1\" 200 -\n"
     ]
    },
    {
     "name": "stdout",
     "output_type": "stream",
     "text": [
      "opened database successfully!\n"
     ]
    },
    {
     "name": "stderr",
     "output_type": "stream",
     "text": [
      "127.0.0.1 - - [06/Nov/2022 14:33:01] \"PUT /pay/2/1002 HTTP/1.1\" 200 -\n"
     ]
    },
    {
     "name": "stdout",
     "output_type": "stream",
     "text": [
      "Payment success!\n"
     ]
    },
    {
     "name": "stderr",
     "output_type": "stream",
     "text": [
      "127.0.0.1 - - [06/Nov/2022 14:33:10] \"PUT /rent/1002 HTTP/1.1\" 200 -\n"
     ]
    },
    {
     "name": "stdout",
     "output_type": "stream",
     "text": [
      "Successful rent of vehicle!\n"
     ]
    },
    {
     "name": "stderr",
     "output_type": "stream",
     "text": [
      "127.0.0.1 - - [06/Nov/2022 14:33:11] \"POST /searchv HTTP/1.1\" 200 -\n",
      "127.0.0.1 - - [06/Nov/2022 14:33:17] \"PUT /return/1002/G4 HTTP/1.1\" 200 -\n"
     ]
    },
    {
     "name": "stdout",
     "output_type": "stream",
     "text": [
      "opened database successfully!\n",
      "Successful return of vehicle!\n"
     ]
    },
    {
     "name": "stderr",
     "output_type": "stream",
     "text": [
      "127.0.0.1 - - [06/Nov/2022 14:33:17] \"POST /showuser/asd HTTP/1.1\" 200 -\n"
     ]
    },
    {
     "name": "stdout",
     "output_type": "stream",
     "text": [
      "opened database successfully!\n"
     ]
    },
    {
     "name": "stderr",
     "output_type": "stream",
     "text": [
      "127.0.0.1 - - [06/Nov/2022 14:34:07] \"GET /login?user=qwe113&pwd=123123 HTTP/1.1\" 200 -\n",
      "127.0.0.1 - - [06/Nov/2022 14:34:11] \"GET /login?user=qwe&pwd=123123 HTTP/1.1\" 200 -\n",
      "127.0.0.1 - - [06/Nov/2022 14:34:18] \"PUT /rent/2001 HTTP/1.1\" 200 -\n",
      "127.0.0.1 - - [06/Nov/2022 14:34:18] \"POST /searchv HTTP/1.1\" 200 -\n"
     ]
    },
    {
     "name": "stdout",
     "output_type": "stream",
     "text": [
      "Successful rent of vehicle!\n"
     ]
    },
    {
     "name": "stderr",
     "output_type": "stream",
     "text": [
      "127.0.0.1 - - [06/Nov/2022 14:34:28] \"PUT /return/2001/G9 HTTP/1.1\" 200 -\n"
     ]
    },
    {
     "name": "stdout",
     "output_type": "stream",
     "text": [
      "opened database successfully!\n",
      "Successful return of vehicle!\n"
     ]
    },
    {
     "name": "stderr",
     "output_type": "stream",
     "text": [
      "127.0.0.1 - - [06/Nov/2022 14:34:28] \"POST /showuser/qwe HTTP/1.1\" 200 -\n"
     ]
    },
    {
     "name": "stdout",
     "output_type": "stream",
     "text": [
      "opened database successfully!\n"
     ]
    },
    {
     "name": "stderr",
     "output_type": "stream",
     "text": [
      "127.0.0.1 - - [06/Nov/2022 14:34:49] \"GET /login?user=qwe&pwd=123123 HTTP/1.1\" 200 -\n",
      "127.0.0.1 - - [06/Nov/2022 14:34:55] \"PUT /rent/1001 HTTP/1.1\" 200 -\n"
     ]
    },
    {
     "name": "stdout",
     "output_type": "stream",
     "text": [
      "Successful rent of vehicle!\n"
     ]
    },
    {
     "name": "stderr",
     "output_type": "stream",
     "text": [
      "127.0.0.1 - - [06/Nov/2022 14:34:55] \"POST /searchv HTTP/1.1\" 200 -\n",
      "127.0.0.1 - - [06/Nov/2022 14:36:15] \"PUT /rent/1001 HTTP/1.1\" 200 -\n"
     ]
    },
    {
     "name": "stdout",
     "output_type": "stream",
     "text": [
      "Successful rent of vehicle!\n"
     ]
    },
    {
     "name": "stderr",
     "output_type": "stream",
     "text": [
      "127.0.0.1 - - [06/Nov/2022 14:36:16] \"POST /searchv HTTP/1.1\" 200 -\n",
      "127.0.0.1 - - [06/Nov/2022 14:36:20] \"PUT /return/1001/G6 HTTP/1.1\" 200 -\n"
     ]
    },
    {
     "name": "stdout",
     "output_type": "stream",
     "text": [
      "opened database successfully!\n",
      "Successful return of vehicle!\n"
     ]
    },
    {
     "name": "stderr",
     "output_type": "stream",
     "text": [
      "127.0.0.1 - - [06/Nov/2022 14:36:21] \"POST /showuser/qwe HTTP/1.1\" 200 -\n"
     ]
    },
    {
     "name": "stdout",
     "output_type": "stream",
     "text": [
      "opened database successfully!\n"
     ]
    },
    {
     "name": "stderr",
     "output_type": "stream",
     "text": [
      "127.0.0.1 - - [06/Nov/2022 14:36:28] \"PUT /pay/1/1001 HTTP/1.1\" 200 -\n"
     ]
    },
    {
     "name": "stdout",
     "output_type": "stream",
     "text": [
      "Payment success!\n"
     ]
    },
    {
     "name": "stderr",
     "output_type": "stream",
     "text": [
      "127.0.0.1 - - [06/Nov/2022 14:36:45] \"GET /login?user=qwe&pwd=123123 HTTP/1.1\" 200 -\n",
      "127.0.0.1 - - [06/Nov/2022 14:36:48] \"POST /searchv HTTP/1.1\" 200 -\n",
      "127.0.0.1 - - [06/Nov/2022 14:37:03] \"POST /searchv HTTP/1.1\" 200 -\n",
      "127.0.0.1 - - [06/Nov/2022 14:39:29] \"POST /searchv HTTP/1.1\" 200 -\n",
      "127.0.0.1 - - [06/Nov/2022 14:39:36] \"POST /searchv HTTP/1.1\" 200 -\n",
      "127.0.0.1 - - [06/Nov/2022 14:39:41] \"POST /searchv HTTP/1.1\" 200 -\n",
      "127.0.0.1 - - [06/Nov/2022 14:40:05] \"POST /showinfo HTTP/1.1\" 200 -\n"
     ]
    },
    {
     "name": "stdout",
     "output_type": "stream",
     "text": [
      "opened database successfully!\n"
     ]
    },
    {
     "name": "stderr",
     "output_type": "stream",
     "text": [
      "127.0.0.1 - - [06/Nov/2022 14:40:17] \"POST /shovinfo HTTP/1.1\" 404 -\n",
      "127.0.0.1 - - [06/Nov/2022 14:40:29] \"POST /showinfo HTTP/1.1\" 200 -\n"
     ]
    },
    {
     "name": "stdout",
     "output_type": "stream",
     "text": [
      "opened database successfully!\n"
     ]
    },
    {
     "name": "stderr",
     "output_type": "stream",
     "text": [
      "127.0.0.1 - - [06/Nov/2022 14:41:04] \"GET /showinfo HTTP/1.1\" 200 -\n"
     ]
    },
    {
     "name": "stdout",
     "output_type": "stream",
     "text": [
      "opened database successfully!\n"
     ]
    },
    {
     "name": "stderr",
     "output_type": "stream",
     "text": [
      "127.0.0.1 - - [06/Nov/2022 14:41:23] \"GET /showinfo HTTP/1.1\" 200 -\n"
     ]
    },
    {
     "name": "stdout",
     "output_type": "stream",
     "text": [
      "opened database successfully!\n"
     ]
    },
    {
     "name": "stderr",
     "output_type": "stream",
     "text": [
      "127.0.0.1 - - [06/Nov/2022 14:41:32] \"GET /showinfo HTTP/1.1\" 200 -\n"
     ]
    },
    {
     "name": "stdout",
     "output_type": "stream",
     "text": [
      "opened database successfully!\n"
     ]
    },
    {
     "name": "stderr",
     "output_type": "stream",
     "text": [
      "127.0.0.1 - - [06/Nov/2022 14:42:10] \"GET /showinfo HTTP/1.1\" 200 -\n"
     ]
    },
    {
     "name": "stdout",
     "output_type": "stream",
     "text": [
      "opened database successfully!\n"
     ]
    },
    {
     "name": "stderr",
     "output_type": "stream",
     "text": [
      "127.0.0.1 - - [06/Nov/2022 14:42:17] \"GET /showinfo HTTP/1.1\" 200 -\n"
     ]
    },
    {
     "name": "stdout",
     "output_type": "stream",
     "text": [
      "opened database successfully!\n"
     ]
    },
    {
     "name": "stderr",
     "output_type": "stream",
     "text": [
      "127.0.0.1 - - [06/Nov/2022 14:42:25] \"GET /showinfo HTTP/1.1\" 200 -\n"
     ]
    },
    {
     "name": "stdout",
     "output_type": "stream",
     "text": [
      "opened database successfully!\n"
     ]
    },
    {
     "name": "stderr",
     "output_type": "stream",
     "text": [
      "127.0.0.1 - - [06/Nov/2022 14:42:46] \"GET /showinfo HTTP/1.1\" 200 -\n"
     ]
    },
    {
     "name": "stdout",
     "output_type": "stream",
     "text": [
      "opened database successfully!\n"
     ]
    },
    {
     "name": "stderr",
     "output_type": "stream",
     "text": [
      "127.0.0.1 - - [06/Nov/2022 14:43:33] \"GET /showinfo HTTP/1.1\" 200 -\n"
     ]
    },
    {
     "name": "stdout",
     "output_type": "stream",
     "text": [
      "opened database successfully!\n"
     ]
    },
    {
     "name": "stderr",
     "output_type": "stream",
     "text": [
      "127.0.0.1 - - [06/Nov/2022 14:43:36] \"GET /showinfo HTTP/1.1\" 200 -\n"
     ]
    },
    {
     "name": "stdout",
     "output_type": "stream",
     "text": [
      "opened database successfully!\n"
     ]
    },
    {
     "name": "stderr",
     "output_type": "stream",
     "text": [
      "127.0.0.1 - - [06/Nov/2022 14:43:50] \"GET /showinfo HTTP/1.1\" 200 -\n"
     ]
    },
    {
     "name": "stdout",
     "output_type": "stream",
     "text": [
      "opened database successfully!\n"
     ]
    },
    {
     "name": "stderr",
     "output_type": "stream",
     "text": [
      "127.0.0.1 - - [06/Nov/2022 14:44:03] \"GET /showinfo HTTP/1.1\" 200 -\n"
     ]
    },
    {
     "name": "stdout",
     "output_type": "stream",
     "text": [
      "opened database successfully!\n"
     ]
    },
    {
     "name": "stderr",
     "output_type": "stream",
     "text": [
      "127.0.0.1 - - [06/Nov/2022 14:44:44] \"GET /showinfo HTTP/1.1\" 200 -\n"
     ]
    },
    {
     "name": "stdout",
     "output_type": "stream",
     "text": [
      "opened database successfully!\n"
     ]
    },
    {
     "name": "stderr",
     "output_type": "stream",
     "text": [
      "127.0.0.1 - - [06/Nov/2022 14:45:13] \"GET /showinfo HTTP/1.1\" 200 -\n"
     ]
    },
    {
     "name": "stdout",
     "output_type": "stream",
     "text": [
      "opened database successfully!\n"
     ]
    },
    {
     "name": "stderr",
     "output_type": "stream",
     "text": [
      "127.0.0.1 - - [06/Nov/2022 14:45:48] \"GET /showinfo HTTP/1.1\" 200 -\n"
     ]
    },
    {
     "name": "stdout",
     "output_type": "stream",
     "text": [
      "opened database successfully!\n"
     ]
    },
    {
     "name": "stderr",
     "output_type": "stream",
     "text": [
      "127.0.0.1 - - [06/Nov/2022 14:45:53] \"GET /showinfo HTTP/1.1\" 200 -\n"
     ]
    },
    {
     "name": "stdout",
     "output_type": "stream",
     "text": [
      "opened database successfully!\n"
     ]
    },
    {
     "name": "stderr",
     "output_type": "stream",
     "text": [
      "127.0.0.1 - - [06/Nov/2022 14:46:02] \"GET /showinfo HTTP/1.1\" 200 -\n"
     ]
    },
    {
     "name": "stdout",
     "output_type": "stream",
     "text": [
      "opened database successfully!\n"
     ]
    },
    {
     "name": "stderr",
     "output_type": "stream",
     "text": [
      "127.0.0.1 - - [06/Nov/2022 14:46:09] \"GET /showinfo HTTP/1.1\" 200 -\n"
     ]
    },
    {
     "name": "stdout",
     "output_type": "stream",
     "text": [
      "opened database successfully!\n"
     ]
    },
    {
     "name": "stderr",
     "output_type": "stream",
     "text": [
      "127.0.0.1 - - [06/Nov/2022 14:47:20] \"GET /showinfo HTTP/1.1\" 200 -\n"
     ]
    },
    {
     "name": "stdout",
     "output_type": "stream",
     "text": [
      "opened database successfully!\n"
     ]
    },
    {
     "name": "stderr",
     "output_type": "stream",
     "text": [
      "127.0.0.1 - - [06/Nov/2022 14:47:33] \"GET /showinfo HTTP/1.1\" 200 -\n"
     ]
    },
    {
     "name": "stdout",
     "output_type": "stream",
     "text": [
      "opened database successfully!\n"
     ]
    },
    {
     "name": "stderr",
     "output_type": "stream",
     "text": [
      "127.0.0.1 - - [06/Nov/2022 14:47:42] \"PUT /repair/undefined HTTP/1.1\" 404 -\n",
      "127.0.0.1 - - [06/Nov/2022 14:48:13] \"PUT /repair/1001 HTTP/1.1\" 200 -\n"
     ]
    },
    {
     "name": "stdout",
     "output_type": "stream",
     "text": [
      "opened database successfully!\n",
      "Repair the vehicle successfully!\n"
     ]
    },
    {
     "name": "stderr",
     "output_type": "stream",
     "text": [
      "127.0.0.1 - - [06/Nov/2022 14:48:14] \"GET /showinfo HTTP/1.1\" 200 -\n"
     ]
    },
    {
     "name": "stdout",
     "output_type": "stream",
     "text": [
      "opened database successfully!\n"
     ]
    },
    {
     "name": "stderr",
     "output_type": "stream",
     "text": [
      "127.0.0.1 - - [06/Nov/2022 14:48:17] \"PUT /repair/1002 HTTP/1.1\" 200 -\n"
     ]
    },
    {
     "name": "stdout",
     "output_type": "stream",
     "text": [
      "opened database successfully!\n",
      "Repair the vehicle successfully!\n"
     ]
    },
    {
     "name": "stderr",
     "output_type": "stream",
     "text": [
      "127.0.0.1 - - [06/Nov/2022 14:48:17] \"GET /showinfo HTTP/1.1\" 200 -\n"
     ]
    },
    {
     "name": "stdout",
     "output_type": "stream",
     "text": [
      "opened database successfully!\n"
     ]
    },
    {
     "name": "stderr",
     "output_type": "stream",
     "text": [
      "127.0.0.1 - - [06/Nov/2022 14:48:21] \"PUT /repair/1002 HTTP/1.1\" 200 -\n"
     ]
    },
    {
     "name": "stdout",
     "output_type": "stream",
     "text": [
      "opened database successfully!\n",
      "Repair the vehicle successfully!\n"
     ]
    },
    {
     "name": "stderr",
     "output_type": "stream",
     "text": [
      "127.0.0.1 - - [06/Nov/2022 14:48:21] \"GET /showinfo HTTP/1.1\" 200 -\n"
     ]
    },
    {
     "name": "stdout",
     "output_type": "stream",
     "text": [
      "opened database successfully!\n"
     ]
    },
    {
     "name": "stderr",
     "output_type": "stream",
     "text": [
      "127.0.0.1 - - [06/Nov/2022 14:48:32] \"PUT /repair/1002 HTTP/1.1\" 200 -\n"
     ]
    },
    {
     "name": "stdout",
     "output_type": "stream",
     "text": [
      "opened database successfully!\n",
      "Repair the vehicle successfully!\n"
     ]
    },
    {
     "name": "stderr",
     "output_type": "stream",
     "text": [
      "127.0.0.1 - - [06/Nov/2022 14:48:32] \"GET /showinfo HTTP/1.1\" 200 -\n"
     ]
    },
    {
     "name": "stdout",
     "output_type": "stream",
     "text": [
      "opened database successfully!\n"
     ]
    },
    {
     "name": "stderr",
     "output_type": "stream",
     "text": [
      "127.0.0.1 - - [06/Nov/2022 14:48:41] \"GET /login?user=qwe&pwd=1 HTTP/1.1\" 200 -\n",
      "127.0.0.1 - - [06/Nov/2022 14:48:45] \"GET /login?user=qwe&pwd=1123123 HTTP/1.1\" 200 -\n",
      "127.0.0.1 - - [06/Nov/2022 14:48:48] \"GET /login?user=qwe&pwd=123123 HTTP/1.1\" 200 -\n",
      "127.0.0.1 - - [06/Nov/2022 14:57:45] \"PUT /rent/1001 HTTP/1.1\" 200 -\n"
     ]
    },
    {
     "name": "stdout",
     "output_type": "stream",
     "text": [
      "Successful rent of vehicle!\n"
     ]
    },
    {
     "name": "stderr",
     "output_type": "stream",
     "text": [
      "127.0.0.1 - - [06/Nov/2022 14:57:46] \"POST /searchv HTTP/1.1\" 200 -\n",
      "127.0.0.1 - - [06/Nov/2022 14:58:10] \"PUT /report/1001 HTTP/1.1\" 200 -\n"
     ]
    },
    {
     "name": "stdout",
     "output_type": "stream",
     "text": [
      "opened database successfully!\n",
      "Report successfully!\n"
     ]
    },
    {
     "name": "stderr",
     "output_type": "stream",
     "text": [
      "127.0.0.1 - - [06/Nov/2022 14:58:34] \"PUT /report/1001 HTTP/1.1\" 200 -\n"
     ]
    },
    {
     "name": "stdout",
     "output_type": "stream",
     "text": [
      "opened database successfully!\n",
      "Report successfully!\n"
     ]
    },
    {
     "name": "stderr",
     "output_type": "stream",
     "text": [
      "127.0.0.1 - - [06/Nov/2022 14:58:46] \"POST /showuser/qwe HTTP/1.1\" 200 -\n"
     ]
    },
    {
     "name": "stdout",
     "output_type": "stream",
     "text": [
      "opened database successfully!\n"
     ]
    },
    {
     "name": "stderr",
     "output_type": "stream",
     "text": [
      "127.0.0.1 - - [06/Nov/2022 14:59:00] \"GET /login?user=qwe&pwd=123123 HTTP/1.1\" 200 -\n",
      "127.0.0.1 - - [06/Nov/2022 14:59:08] \"PUT /rent/1001 HTTP/1.1\" 200 -\n",
      "127.0.0.1 - - [06/Nov/2022 14:59:08] \"POST /searchv HTTP/1.1\" 200 -\n"
     ]
    },
    {
     "name": "stdout",
     "output_type": "stream",
     "text": [
      "Successful rent of vehicle!\n"
     ]
    },
    {
     "name": "stderr",
     "output_type": "stream",
     "text": [
      "127.0.0.1 - - [06/Nov/2022 14:59:13] \"PUT /return/1001/G1 HTTP/1.1\" 200 -\n"
     ]
    },
    {
     "name": "stdout",
     "output_type": "stream",
     "text": [
      "opened database successfully!\n",
      "Successful return of vehicle!\n"
     ]
    },
    {
     "name": "stderr",
     "output_type": "stream",
     "text": [
      "127.0.0.1 - - [06/Nov/2022 14:59:13] \"POST /showuser/qwe HTTP/1.1\" 200 -\n"
     ]
    },
    {
     "name": "stdout",
     "output_type": "stream",
     "text": [
      "opened database successfully!\n"
     ]
    },
    {
     "name": "stderr",
     "output_type": "stream",
     "text": [
      "127.0.0.1 - - [06/Nov/2022 14:59:14] \"PUT /pay/1/1001 HTTP/1.1\" 200 -\n"
     ]
    },
    {
     "name": "stdout",
     "output_type": "stream",
     "text": [
      "Payment success!\n"
     ]
    },
    {
     "name": "stderr",
     "output_type": "stream",
     "text": [
      "127.0.0.1 - - [06/Nov/2022 14:59:28] \"GET /login?user=qwe&pwd=123123 HTTP/1.1\" 200 -\n",
      "127.0.0.1 - - [06/Nov/2022 14:59:30] \"POST /searchv HTTP/1.1\" 200 -\n",
      "127.0.0.1 - - [06/Nov/2022 14:59:32] \"PUT /charge/1002 HTTP/1.1\" 200 -\n"
     ]
    },
    {
     "name": "stdout",
     "output_type": "stream",
     "text": [
      "opened database successfully!\n",
      "Successful charge the vehicle!\n"
     ]
    },
    {
     "name": "stderr",
     "output_type": "stream",
     "text": [
      "127.0.0.1 - - [06/Nov/2022 14:59:32] \"POST /searchv HTTP/1.1\" 200 -\n",
      "127.0.0.1 - - [06/Nov/2022 14:59:34] \"GET /showinfo HTTP/1.1\" 200 -\n"
     ]
    },
    {
     "name": "stdout",
     "output_type": "stream",
     "text": [
      "opened database successfully!\n"
     ]
    },
    {
     "name": "stderr",
     "output_type": "stream",
     "text": [
      "127.0.0.1 - - [06/Nov/2022 14:59:35] \"PUT /repair/1001 HTTP/1.1\" 200 -\n"
     ]
    },
    {
     "name": "stdout",
     "output_type": "stream",
     "text": [
      "opened database successfully!\n",
      "Repair the vehicle successfully!\n"
     ]
    },
    {
     "name": "stderr",
     "output_type": "stream",
     "text": [
      "127.0.0.1 - - [06/Nov/2022 14:59:35] \"GET /showinfo HTTP/1.1\" 200 -\n"
     ]
    },
    {
     "name": "stdout",
     "output_type": "stream",
     "text": [
      "opened database successfully!\n"
     ]
    },
    {
     "name": "stderr",
     "output_type": "stream",
     "text": [
      "127.0.0.1 - - [06/Nov/2022 14:59:42] \"GET /login?user=qwe&pwd=123123 HTTP/1.1\" 200 -\n",
      "127.0.0.1 - - [06/Nov/2022 15:00:07] \"GET /register?user=yui&pwd=123123&c_pwd=123123 HTTP/1.1\" 200 -\n",
      "127.0.0.1 - - [06/Nov/2022 15:00:21] \"GET /login?user=yui&pwd=123123 HTTP/1.1\" 200 -\n",
      "127.0.0.1 - - [06/Nov/2022 15:00:31] \"PUT /report/1001 HTTP/1.1\" 200 -\n"
     ]
    },
    {
     "name": "stdout",
     "output_type": "stream",
     "text": [
      "opened database successfully!\n",
      "Report successfully!\n"
     ]
    },
    {
     "name": "stderr",
     "output_type": "stream",
     "text": [
      "127.0.0.1 - - [06/Nov/2022 15:01:39] \"PUT /report/1002 HTTP/1.1\" 200 -\n"
     ]
    },
    {
     "name": "stdout",
     "output_type": "stream",
     "text": [
      "opened database successfully!\n",
      "Report successfully!\n"
     ]
    },
    {
     "name": "stderr",
     "output_type": "stream",
     "text": [
      "127.0.0.1 - - [06/Nov/2022 15:10:32] \"GET /login?user=qwe&pwd=123123 HTTP/1.1\" 200 -\n",
      "127.0.0.1 - - [06/Nov/2022 15:10:38] \"POST /showuser/qwe HTTP/1.1\" 200 -\n"
     ]
    },
    {
     "name": "stdout",
     "output_type": "stream",
     "text": [
      "opened database successfully!\n"
     ]
    },
    {
     "name": "stderr",
     "output_type": "stream",
     "text": [
      "127.0.0.1 - - [06/Nov/2022 15:10:44] \"PUT /recharge/qwe HTTP/1.1\" 200 -\n",
      "127.0.0.1 - - [06/Nov/2022 15:10:44] \"POST /showuser/qwe HTTP/1.1\" 200 -\n"
     ]
    },
    {
     "name": "stdout",
     "output_type": "stream",
     "text": [
      "opened database successfully!\n"
     ]
    },
    {
     "name": "stderr",
     "output_type": "stream",
     "text": [
      "127.0.0.1 - - [06/Nov/2022 15:10:50] \"PUT /rent/1001 HTTP/1.1\" 200 -\n",
      "127.0.0.1 - - [06/Nov/2022 15:10:50] \"POST /searchv HTTP/1.1\" 200 -\n"
     ]
    },
    {
     "name": "stdout",
     "output_type": "stream",
     "text": [
      "Successful rent of vehicle!\n"
     ]
    },
    {
     "name": "stderr",
     "output_type": "stream",
     "text": [
      "127.0.0.1 - - [06/Nov/2022 15:13:45] \"PUT /rent/1001 HTTP/1.1\" 200 -\n"
     ]
    },
    {
     "name": "stdout",
     "output_type": "stream",
     "text": [
      "Successful rent of vehicle!\n"
     ]
    },
    {
     "name": "stderr",
     "output_type": "stream",
     "text": [
      "127.0.0.1 - - [06/Nov/2022 15:13:45] \"POST /searchv HTTP/1.1\" 200 -\n",
      "127.0.0.1 - - [06/Nov/2022 15:13:50] \"PUT /return/1001/G4 HTTP/1.1\" 200 -\n"
     ]
    },
    {
     "name": "stdout",
     "output_type": "stream",
     "text": [
      "opened database successfully!\n",
      "Successful return of vehicle!\n"
     ]
    },
    {
     "name": "stderr",
     "output_type": "stream",
     "text": [
      "127.0.0.1 - - [06/Nov/2022 15:13:51] \"POST /showuser/qwe HTTP/1.1\" 200 -\n"
     ]
    },
    {
     "name": "stdout",
     "output_type": "stream",
     "text": [
      "opened database successfully!\n"
     ]
    },
    {
     "name": "stderr",
     "output_type": "stream",
     "text": [
      "127.0.0.1 - - [06/Nov/2022 15:13:53] \"PUT /pay/1/1001 HTTP/1.1\" 200 -\n"
     ]
    },
    {
     "name": "stdout",
     "output_type": "stream",
     "text": [
      "Payment success!\n"
     ]
    },
    {
     "name": "stderr",
     "output_type": "stream",
     "text": [
      "127.0.0.1 - - [06/Nov/2022 15:13:58] \"POST /showuser/qwe HTTP/1.1\" 200 -\n"
     ]
    },
    {
     "name": "stdout",
     "output_type": "stream",
     "text": [
      "opened database successfully!\n"
     ]
    },
    {
     "name": "stderr",
     "output_type": "stream",
     "text": [
      "127.0.0.1 - - [06/Nov/2022 15:14:08] \"GET /login?user=qwe113&pwd=3 HTTP/1.1\" 200 -\n",
      "127.0.0.1 - - [06/Nov/2022 15:14:10] \"GET /showinfo HTTP/1.1\" 200 -\n"
     ]
    },
    {
     "name": "stdout",
     "output_type": "stream",
     "text": [
      "opened database successfully!\n"
     ]
    },
    {
     "name": "stderr",
     "output_type": "stream",
     "text": [
      "127.0.0.1 - - [06/Nov/2022 15:14:12] \"POST /searchv HTTP/1.1\" 200 -\n"
     ]
    }
   ],
   "source": [
    "if __name__ == '__main__':\n",
    "    app.run(host='0.0.0.0', port= 5590)"
   ]
  },
  {
   "cell_type": "code",
   "execution_count": null,
   "id": "e13d0aef",
   "metadata": {},
   "outputs": [],
   "source": [
    "def test():\n",
    "    \n",
    "    u = \"zxc\"\n",
    "    p = 123123        \n",
    "    with sqlite3.connect(\"Project.db\") as db:\n",
    "        cursor = db.cursor()\n",
    "    \n",
    "    cursor.execute(\"SELECT user_psw FROM USERS WHERE user_name = '{}'\".format(u))\n",
    "    data = cursor.fetchall()\n",
    "    psw = data[0][0]\n",
    "    \n",
    "    if psw == str(p):\n",
    "        ren = {'msg':\"success\",\"msg_code\":200}\n",
    "    \n",
    "    else:\n",
    "        ren = {'msg':\"fail\",\"msg_code\":200}  \n",
    "        \n",
    "    return json.dumps(ren, ensure_ascii=False)\n",
    "    "
   ]
  },
  {
   "cell_type": "code",
   "execution_count": null,
   "id": "5eb28b70",
   "metadata": {},
   "outputs": [],
   "source": [
    "# with sqlite3.connect(\"Project.db\") as db:\n",
    "#     cursor = db.cursor()\n",
    "# #     print(\"opened database successfully!\")\n",
    "\n",
    "# #         Get the input data from the front end\n",
    "# recharge = request.values.get(\"recharge\", '')\n",
    "# #         test \n",
    "# #         recharge = 50\n",
    "\n",
    "# cursor.execute(\"SELECT user_balance FROM USERS WHERE user_name = '{}'\".format(username) )\n",
    "# data = cursor.fetchall()\n",
    "# balance = data[0][0]\n",
    "\n",
    "# balance = balance + recharge\n",
    "        \n",
    "# cursor.execute(\"UPDATE USERS set user_balance = ? where user_name = ?\",(balance,username))\n",
    "# #         print(\"Recharge successfully!\")\n",
    "# db.commit()\n",
    "# db.close()"
   ]
  },
  {
   "cell_type": "code",
   "execution_count": null,
   "id": "f2ad2584",
   "metadata": {},
   "outputs": [],
   "source": []
  }
 ],
 "metadata": {
  "kernelspec": {
   "display_name": "Python 3 (ipykernel)",
   "language": "python",
   "name": "python3"
  },
  "language_info": {
   "codemirror_mode": {
    "name": "ipython",
    "version": 3
   },
   "file_extension": ".py",
   "mimetype": "text/x-python",
   "name": "python",
   "nbconvert_exporter": "python",
   "pygments_lexer": "ipython3",
   "version": "3.7.0"
  }
 },
 "nbformat": 4,
 "nbformat_minor": 5
}
