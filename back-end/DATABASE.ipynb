{
 "cells": [
  {
   "cell_type": "code",
   "execution_count": 1,
   "id": "740e9b5f",
   "metadata": {},
   "outputs": [],
   "source": [
    "import sqlite3"
   ]
  },
  {
   "cell_type": "code",
   "execution_count": 2,
   "id": "e69b4cf0",
   "metadata": {},
   "outputs": [
    {
     "name": "stdout",
     "output_type": "stream",
     "text": [
      "opened database successfully!\n",
      "Create table successfully!\n"
     ]
    }
   ],
   "source": [
    "#VEHICLES database\n",
    "with sqlite3.connect(\"Project.db\") as db:\n",
    "    cursor = db.cursor()\n",
    "print(\"opened database successfully!\")\n",
    "\n",
    "cursor.execute(\"\"\" CREATE TABLE IF NOT EXISTS VEHICLES(\n",
    "id integer PRIMARY KEY,\n",
    "vehNo integer,\n",
    "vehType text,\n",
    "location text,\n",
    "state text,\n",
    "starttime text,\n",
    "endtime text,\n",
    "timeused text,\n",
    "fee integer,\n",
    "electric integer); \"\"\")\n",
    "\n",
    "# REPAIR database\n",
    "cursor.execute(\"\"\"CREATE TABLE IF NOT EXISTS repair(\n",
    "vehNo integer PRIMARY KEY,\n",
    "vehType text,\n",
    "vehStatu text NOT NULL);\"\"\")\n",
    "\n",
    "#LOGIN REGESTER\n",
    "cursor.execute(\"\"\"CREATE TABLE IF NOT EXISTS USERS(\n",
    "user_id integer PRIMARY KEY,\n",
    "user_name text,\n",
    "user_psw text,\n",
    "user_balance integer);\"\"\")\n",
    "\n",
    "\n",
    "\n",
    "\n",
    "\n",
    "print(\"Create table successfully!\")\n",
    "db.commit()\n",
    "db.close()"
   ]
  },
  {
   "cell_type": "code",
   "execution_count": 3,
   "id": "8c142a76",
   "metadata": {},
   "outputs": [
    {
     "name": "stdout",
     "output_type": "stream",
     "text": [
      "opened database successfully!\n"
     ]
    }
   ],
   "source": [
    "#DEFAULT DATA\n",
    "with sqlite3.connect(\"Project.db\") as db:\n",
    "        cursor = db.cursor()\n",
    "print(\"opened database successfully!\")\n",
    "\n",
    "#TEST DATA      \n",
    "cursor.execute(\"INSERT INTO VEHICLES (VEHNO,VEHTYPE,LOCATION,STATE,STARTTIME,ENDTIME,TIMEUSED,FEE,ELECTRIC)\\\n",
    "    VALUES(?, ?, ?, ?, ? , ?, ?, ? ,?)\",(1001,\"E-car\",\"G1\",\"Free\",None,None,None,None,100))\n",
    "cursor.execute(\"INSERT INTO VEHICLES (VEHNO,VEHTYPE,LOCATION,STATE,STARTTIME,ENDTIME,TIMEUSED,FEE,ELECTRIC)\\\n",
    "    VALUES(?, ?, ?, ?, ? , ?, ?, ? ,?)\",(1002,\"E-car\",\"G2\",\"Free\",None,None,None,None,100))\n",
    "cursor.execute(\"INSERT INTO VEHICLES (VEHNO,VEHTYPE,LOCATION,STATE,STARTTIME,ENDTIME,TIMEUSED,FEE,ELECTRIC)\\\n",
    "    VALUES(?, ?, ?, ?, ? , ?, ?, ? ,?)\",(2001,\"E-Scooter\",\"G3\",\"Free\",None,None,None,None,100))\n",
    "cursor.execute(\"INSERT INTO VEHICLES (VEHNO,VEHTYPE,LOCATION,STATE,STARTTIME,ENDTIME,TIMEUSED,FEE,ELECTRIC)\\\n",
    "    VALUES(?, ?, ?, ?, ? , ?, ?, ? ,?)\",(2002,\"E-Scooter\",\"G4\",\"Free\",None,None,None,None,100))\n",
    "\n",
    "cursor.execute(\"\"\"INSERT OR IGNORE INTO repair(vehNo, vehType, vehStatu)\n",
    "VALUES (\"1001\", \"E-car\", \"damaged\")\"\"\")\n",
    "db.commit()\n",
    "cursor.execute(\"\"\"INSERT OR IGNORE INTO repair(vehNo, vehType, vehStatu)\n",
    "VALUES (\"1002\", \"E-car\", \"good\")\"\"\")\n",
    "db.commit()\n",
    "cursor.execute(\"\"\"INSERT OR IGNORE INTO repair(vehNo, vehType, vehStatu)\n",
    "VALUES (\"2001\", \"E-Scooter\", \"good\")\"\"\")\n",
    "db.commit()\n",
    "cursor.execute(\"\"\"INSERT OR IGNORE INTO repair(vehNo, vehType, vehStatu)\n",
    "VALUES (\"2002\", \"E-Scooter\", \"good\")\"\"\")\n",
    "db.commit()\n",
    "\n",
    "cursor.execute(\"\"\"INSERT OR IGNORE INTO USERS(user_name, user_psw, user_balance)\n",
    "VALUES (\"qwe\", 123123, 0)\"\"\")\n",
    "cursor.execute(\"\"\"INSERT OR IGNORE INTO USERS(user_name, user_psw, user_balance)\n",
    "VALUES (\"asd\", 123123, 0)\"\"\")\n",
    "cursor.execute(\"\"\"INSERT OR IGNORE INTO USERS(user_name, user_psw, user_balance)\n",
    "VALUES (\"zxc\", 123123, 100)\"\"\")\n",
    "\n",
    "\n",
    "db.commit()\n",
    "db.close()"
   ]
  },
  {
   "cell_type": "code",
   "execution_count": null,
   "id": "db63ce27",
   "metadata": {},
   "outputs": [],
   "source": []
  }
 ],
 "metadata": {
  "kernelspec": {
   "display_name": "Python 3 (ipykernel)",
   "language": "python",
   "name": "python3"
  },
  "language_info": {
   "codemirror_mode": {
    "name": "ipython",
    "version": 3
   },
   "file_extension": ".py",
   "mimetype": "text/x-python",
   "name": "python",
   "nbconvert_exporter": "python",
   "pygments_lexer": "ipython3",
   "version": "3.7.0"
  }
 },
 "nbformat": 4,
 "nbformat_minor": 5
}
